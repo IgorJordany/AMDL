{
  "cells": [
    {
      "cell_type": "code",
      "execution_count": 1,
      "metadata": {
        "id": "wa0EbRonLVuQ"
      },
      "outputs": [],
      "source": [
        "import numpy as np\n",
        "import matplotlib.pyplot as plt\n",
        "%matplotlib inline"
      ]
    },
    {
      "cell_type": "markdown",
      "metadata": {
        "id": "NCjFTQ2BNGYS"
      },
      "source": [
        "Regressão"
      ]
    },
    {
      "cell_type": "code",
      "execution_count": 2,
      "metadata": {
        "id": "xqxvdrNdL04C"
      },
      "outputs": [],
      "source": [
        "reais = [5, 10, 15, 20, 25, 30]\n",
        "estimados = [4, 10, 17, 30, 20, 30]"
      ]
    },
    {
      "cell_type": "code",
      "execution_count": 3,
      "metadata": {
        "colab": {
          "base_uri": "https://localhost:8080/",
          "height": 466
        },
        "id": "ixuFCh37MLnB",
        "outputId": "b4288f70-f7d3-4332-92ab-0e1aa812a0d5"
      },
      "outputs": [
        {
          "data": {
            "text/plain": [
              "Text(0, 0.5, 'Dados estimados')"
            ]
          },
          "execution_count": 3,
          "metadata": {},
          "output_type": "execute_result"
        },
        {
          "data": {
            "image/png": "[encoded data removed]",
            "text/plain": [
              "<Figure size 640x480 with 1 Axes>"
            ]
          },
          "metadata": {},
          "output_type": "display_data"
        }
      ],
      "source": [
        "plt.scatter(reais,estimados)\n",
        "plt.xlabel('Dados reais')\n",
        "plt.ylabel('Dados estimados')"
      ]
    },
    {
      "cell_type": "code",
      "execution_count": 4,
      "metadata": {
        "id": "nyGst9CQMeBq"
      },
      "outputs": [],
      "source": [
        "from sklearn import metrics"
      ]
    },
    {
      "cell_type": "code",
      "execution_count": 5,
      "metadata": {
        "colab": {
          "base_uri": "https://localhost:8080/"
        },
        "id": "J-uWiG9dMIop",
        "outputId": "83edeafb-0e75-46de-a8e3-8e89fd6338e5"
      },
      "outputs": [
        {
          "name": "stdout",
          "output_type": "stream",
          "text": [
            "r2: 0.7028571428571428\n",
            "MAE: 3.0\n",
            "MSE: 21.666666666666668\n",
            "RMSE: 4.654746681256314\n"
          ]
        }
      ],
      "source": [
        "print('r2:', metrics.r2_score(reais, estimados))\n",
        "print('MAE:', metrics.mean_absolute_error(reais, estimados))\n",
        "print('MSE:', metrics.mean_squared_error(reais, estimados))\n",
        "print('RMSE:', np.sqrt(metrics.mean_squared_error(reais, estimados)))"
      ]
    },
    {
      "cell_type": "markdown",
      "metadata": {
        "id": "YXdNOwCONIi5"
      },
      "source": [
        "Classificação"
      ]
    },
    {
      "cell_type": "code",
      "execution_count": 6,
      "metadata": {
        "id": "0fj95XnDNLHS"
      },
      "outputs": [],
      "source": [
        "reais = [1, 1, 1, 0, 0, 1]\n",
        "estimados = [1, 0, 1, 0, 0, 0]"
      ]
    },
    {
      "cell_type": "code",
      "execution_count": 7,
      "metadata": {
        "id": "BYFZupuNMahK"
      },
      "outputs": [],
      "source": [
        "from sklearn.metrics import classification_report,confusion_matrix"
      ]
    },
    {
      "cell_type": "code",
      "execution_count": 8,
      "metadata": {
        "colab": {
          "base_uri": "https://localhost:8080/"
        },
        "id": "DX9H94-cMdda",
        "outputId": "459087b8-57e3-4ade-d931-a0131fae22df"
      },
      "outputs": [
        {
          "name": "stdout",
          "output_type": "stream",
          "text": [
            "[[2 0]\n",
            " [2 2]]\n"
          ]
        }
      ],
      "source": [
        "print( confusion_matrix(reais,estimados) )"
      ]
    },
    {
      "cell_type": "code",
      "execution_count": 9,
      "metadata": {
        "colab": {
          "base_uri": "https://localhost:8080/"
        },
        "id": "CNvV6lrLMg3S",
        "outputId": "1d3c40a5-bada-4f29-9d74-68cbcbe0a583"
      },
      "outputs": [
        {
          "name": "stdout",
          "output_type": "stream",
          "text": [
            "              precision    recall  f1-score   support\n",
            "\n",
            "           0       0.50      1.00      0.67         2\n",
            "           1       1.00      0.50      0.67         4\n",
            "\n",
            "    accuracy                           0.67         6\n",
            "   macro avg       0.75      0.75      0.67         6\n",
            "weighted avg       0.83      0.67      0.67         6\n",
            "\n"
          ]
        }
      ],
      "source": [
        "print( classification_report(reais,estimados) )"
      ]
    },
    {
      "cell_type": "code",
      "execution_count": 15,
      "metadata": {},
      "outputs": [
        {
          "name": "stdout",
          "output_type": "stream",
          "text": [
            "6.1\n",
            "4.4\n",
            "2.7\n",
            "-0.3999999999999999\n",
            "MAE: 4.1\n"
          ]
        }
      ],
      "source": [
        "from sklearn import metrics\n",
        "\n",
        "\n",
        "xlist = [91, 74, 57, 26]\n",
        "ylist = [6, 10, 5, 8]\n",
        "predicts = []\n",
        "for x in xlist:\n",
        "  pred = 0.1*x-3\n",
        "  predicts.append(pred)\n",
        "  print(pred)\n",
        "\n",
        "print('MAE:', metrics.mean_absolute_error(ylist, predicts))\n",
        "\n",
        "\n"
      ]
    }
  ],
  "metadata": {
    "colab": {
      "provenance": []
    },
    "kernelspec": {
      "display_name": "Python 3",
      "name": "python3"
    },
    "language_info": {
      "codemirror_mode": {
        "name": "ipython",
        "version": 3
      },
      "file_extension": ".py",
      "mimetype": "text/x-python",
      "name": "python",
      "nbconvert_exporter": "python",
      "pygments_lexer": "ipython3",
      "version": "3.10.11"
    }
  },
  "nbformat": 4,
  "nbformat_minor": 0
}
