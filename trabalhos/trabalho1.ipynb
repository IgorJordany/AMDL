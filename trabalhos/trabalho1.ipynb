{
 "cells": [
  {
   "cell_type": "markdown",
   "metadata": {},
   "source": [
    "# Trabalho 1\n",
    "## O Governo de Mato Grosso precisa decidir como e onde deve investir os recursos do Estado\n",
    "- Você foi contratado para realizar duas tarefas:\n",
    "  1. Analisar os principais dados do Estado\n",
    "  2. Propor atividades de extração de informações\n",
    "## Crie uma apresentação que contenha a análise dos dados e uma lista de\n",
    "- operações a serem executadas para tratar dos seguintes assuntos:\n",
    "  - Estimativa da mortalidade infantil daqui a 5 anos\n",
    "  - Definir as cidades semelhantes entre si\n",
    "  - Quais das características devem ser priorizadas para melhorar o IDHM"
   ]
  },
  {
   "cell_type": "markdown",
   "metadata": {},
   "source": [
    "## Estimativa da mortalidade infantil daqui a 5 anos\n",
    "\n",
    "Poderia ser feito fazendo um tratamento nos dados, para remoção de campos vazios e preenchimento dos necessários. Utilizar uma regressão Linear para gerar um modelo de equação, depois rodar a estimativa da mortalidade infantil para aquela base nos proximos 5 anos.\n"
   ]
  },
  {
   "cell_type": "markdown",
   "metadata": {},
   "source": [
    "## Definir as cidades semelhantes entre si\n",
    "\n",
    "Utilizando algum modelo de treinamento não supervisionado para gerar agrupamento por padrões de dados em comum, no caso, cidades."
   ]
  },
  {
   "cell_type": "markdown",
   "metadata": {},
   "source": [
    "## Quais das características devem ser priorizadas para melhorar o IDHM\n",
    "\n",
    "Utilizado uma análise exploratória para definir quais classes tem mais relação com IDHM, seja positiva ou negativa."
   ]
  }
 ],
 "metadata": {
  "kernelspec": {
   "display_name": "Python 3",
   "language": "python",
   "name": "python3"
  },
  "language_info": {
   "codemirror_mode": {
    "name": "ipython",
    "version": 3
   },
   "file_extension": ".py",
   "mimetype": "text/x-python",
   "name": "python",
   "nbconvert_exporter": "python",
   "pygments_lexer": "ipython3",
   "version": "3.10.11"
  }
 },
 "nbformat": 4,
 "nbformat_minor": 2
}
