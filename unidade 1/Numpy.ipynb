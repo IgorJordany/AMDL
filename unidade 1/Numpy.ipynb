{
  "cells": [
    {
      "cell_type": "code",
      "execution_count": 2,
      "metadata": {
        "id": "xqHr6izq3V4V"
      },
      "outputs": [],
      "source": [
        "import numpy as np"
      ]
    },
    {
      "cell_type": "code",
      "execution_count": 3,
      "metadata": {
        "colab": {
          "base_uri": "https://localhost:8080/"
        },
        "id": "zGdqtY0P3a6f",
        "outputId": "39619731-30e1-4006-a85f-06f40e0fbc1c"
      },
      "outputs": [
        {
          "name": "stdout",
          "output_type": "stream",
          "text": [
            "[0 1 2 3 4 5 6 7 8 9]\n",
            "7\n",
            "[2 3 4]\n"
          ]
        }
      ],
      "source": [
        "vetor = np.arange(0,10)\n",
        "\n",
        "print(vetor)\n",
        "print(vetor[7])\n",
        "print(vetor[2:5])"
      ]
    },
    {
      "cell_type": "code",
      "execution_count": 4,
      "metadata": {
        "colab": {
          "base_uri": "https://localhost:8080/"
        },
        "id": "h6g75bvY3sxf",
        "outputId": "4ac62eaf-227b-4274-e0a9-0159483f0de9"
      },
      "outputs": [
        {
          "name": "stdout",
          "output_type": "stream",
          "text": [
            "[[ 5 10 15]\n",
            " [20 25 30]\n",
            " [35 40 45]]\n",
            "[20 25 30]\n",
            "20\n",
            "20\n",
            "[35 40 45]\n"
          ]
        }
      ],
      "source": [
        "matriz = np.array(([5,10,15],[20,25,30],[35,40,45]))\n",
        "\n",
        "print(matriz)\n",
        "print(matriz[1])\n",
        "print(matriz[1][0])\n",
        "print(matriz[1,0])\n",
        "print(matriz[2,:])"
      ]
    },
    {
      "cell_type": "code",
      "execution_count": 5,
      "metadata": {
        "colab": {
          "base_uri": "https://localhost:8080/"
        },
        "id": "2ARLqngz4P-A",
        "outputId": "8efecb83-e9dc-4b1c-b0d5-e3716f226c32"
      },
      "outputs": [
        {
          "name": "stdout",
          "output_type": "stream",
          "text": [
            "[0 1 2 3 4 5 6 7 8 9]\n",
            "[False False False False False  True  True  True  True  True]\n",
            "[5 6 7 8 9]\n"
          ]
        }
      ],
      "source": [
        "print(vetor)\n",
        "print(vetor>4)\n",
        "print(vetor[vetor>4])"
      ]
    },
    {
      "cell_type": "code",
      "execution_count": 6,
      "metadata": {
        "colab": {
          "base_uri": "https://localhost:8080/"
        },
        "id": "bWCUM1zC5aNp",
        "outputId": "08063e25-1e9e-442b-ba2f-0a5ef7d59c64"
      },
      "outputs": [
        {
          "name": "stdout",
          "output_type": "stream",
          "text": [
            "[ 0  2  4  6  8 10 12 14 16 18]\n",
            "[ 0  1  4  9 16 25 36 49 64 81]\n"
          ]
        }
      ],
      "source": [
        "print( vetor + vetor )\n",
        "print( vetor * vetor )"
      ]
    },
    {
      "cell_type": "code",
      "execution_count": 7,
      "metadata": {
        "colab": {
          "base_uri": "https://localhost:8080/"
        },
        "id": "X97x3fQN5nVh",
        "outputId": "3b4af9fc-68a7-41b8-cd7b-8a470d1d2c1c"
      },
      "outputs": [
        {
          "name": "stdout",
          "output_type": "stream",
          "text": [
            "[0.         1.         1.41421356 1.73205081 2.         2.23606798\n",
            " 2.44948974 2.64575131 2.82842712 3.        ]\n",
            "9\n"
          ]
        }
      ],
      "source": [
        "print( np.sqrt(vetor) )\n",
        "print( np.max(vetor) )"
      ]
    },
    {
      "cell_type": "code",
      "execution_count": 8,
      "metadata": {
        "colab": {
          "base_uri": "https://localhost:8080/"
        },
        "id": "ZYiHUOIx594s",
        "outputId": "6d5dd993-8e15-4bd7-f280-5ba4f7a3122d"
      },
      "outputs": [
        {
          "name": "stdout",
          "output_type": "stream",
          "text": [
            "[ 0.8256646   0.02466666  1.07635033 -0.25302667  0.80760038]\n",
            "[  0.          11.11111111  22.22222222  33.33333333  44.44444444\n",
            "  55.55555556  66.66666667  77.77777778  88.88888889 100.        ]\n"
          ]
        }
      ],
      "source": [
        "print( np.random.randn(5) )\n",
        "print( np.linspace(0,100,10) )"
      ]
    }
  ],
  "metadata": {
    "colab": {
      "provenance": []
    },
    "kernelspec": {
      "display_name": "Python 3",
      "name": "python3"
    },
    "language_info": {
      "codemirror_mode": {
        "name": "ipython",
        "version": 3
      },
      "file_extension": ".py",
      "mimetype": "text/x-python",
      "name": "python",
      "nbconvert_exporter": "python",
      "pygments_lexer": "ipython3",
      "version": "3.10.11"
    }
  },
  "nbformat": 4,
  "nbformat_minor": 0
}
