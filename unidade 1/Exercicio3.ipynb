{
  "cells": [
    {
      "cell_type": "code",
      "execution_count": 1,
      "metadata": {
        "id": "Fqbpe-Af-Sd0"
      },
      "outputs": [],
      "source": [
        "import numpy as np\n",
        "import pandas as pd\n",
        "import matplotlib.pyplot as plt\n",
        "%matplotlib inline"
      ]
    },
    {
      "cell_type": "code",
      "execution_count": 2,
      "metadata": {
        "id": "pKLFuDq1-j8G"
      },
      "outputs": [],
      "source": [
        "dados = np.random.randn(5,4)\n",
        "colunas = ['Coluna 1', 'Coluna 2', 'Coluna 3', 'Coluna 4']\n",
        "df = pd.DataFrame(dados, columns=colunas)"
      ]
    },
    {
      "cell_type": "code",
      "execution_count": 3,
      "metadata": {
        "colab": {
          "base_uri": "https://localhost:8080/",
          "height": 206
        },
        "id": "hh2Ep2jA_X8A",
        "outputId": "c413e9b6-44f7-457d-ef0e-868f3082db43"
      },
      "outputs": [
        {
          "data": {
            "text/html": [
              "<div>\n",
              "<style scoped>\n",
              "    .dataframe tbody tr th:only-of-type {\n",
              "        vertical-align: middle;\n",
              "    }\n",
              "\n",
              "    .dataframe tbody tr th {\n",
              "        vertical-align: top;\n",
              "    }\n",
              "\n",
              "    .dataframe thead th {\n",
              "        text-align: right;\n",
              "    }\n",
              "</style>\n",
              "<table border=\"1\" class=\"dataframe\">\n",
              "  <thead>\n",
              "    <tr style=\"text-align: right;\">\n",
              "      <th></th>\n",
              "      <th>Coluna 1</th>\n",
              "      <th>Coluna 2</th>\n",
              "      <th>Coluna 3</th>\n",
              "      <th>Coluna 4</th>\n",
              "    </tr>\n",
              "  </thead>\n",
              "  <tbody>\n",
              "    <tr>\n",
              "      <th>0</th>\n",
              "      <td>0.345960</td>\n",
              "      <td>2.064212</td>\n",
              "      <td>-0.336650</td>\n",
              "      <td>0.852017</td>\n",
              "    </tr>\n",
              "    <tr>\n",
              "      <th>1</th>\n",
              "      <td>0.297490</td>\n",
              "      <td>2.014071</td>\n",
              "      <td>0.779100</td>\n",
              "      <td>-1.816756</td>\n",
              "    </tr>\n",
              "    <tr>\n",
              "      <th>2</th>\n",
              "      <td>-0.289783</td>\n",
              "      <td>-1.536148</td>\n",
              "      <td>0.664798</td>\n",
              "      <td>-1.036175</td>\n",
              "    </tr>\n",
              "    <tr>\n",
              "      <th>3</th>\n",
              "      <td>-0.268626</td>\n",
              "      <td>-1.441054</td>\n",
              "      <td>0.045876</td>\n",
              "      <td>-0.726161</td>\n",
              "    </tr>\n",
              "    <tr>\n",
              "      <th>4</th>\n",
              "      <td>-0.421049</td>\n",
              "      <td>-0.070494</td>\n",
              "      <td>1.784845</td>\n",
              "      <td>0.887660</td>\n",
              "    </tr>\n",
              "  </tbody>\n",
              "</table>\n",
              "</div>"
            ],
            "text/plain": [
              "   Coluna 1  Coluna 2  Coluna 3  Coluna 4\n",
              "0  0.345960  2.064212 -0.336650  0.852017\n",
              "1  0.297490  2.014071  0.779100 -1.816756\n",
              "2 -0.289783 -1.536148  0.664798 -1.036175\n",
              "3 -0.268626 -1.441054  0.045876 -0.726161\n",
              "4 -0.421049 -0.070494  1.784845  0.887660"
            ]
          },
          "execution_count": 3,
          "metadata": {},
          "output_type": "execute_result"
        }
      ],
      "source": [
        "df"
      ]
    },
    {
      "cell_type": "code",
      "execution_count": 4,
      "metadata": {
        "colab": {
          "base_uri": "https://localhost:8080/",
          "height": 300
        },
        "id": "WcBdclDgB7GW",
        "outputId": "50ecc932-445c-4705-aebb-9843dbd98e33"
      },
      "outputs": [
        {
          "data": {
            "text/html": [
              "<div>\n",
              "<style scoped>\n",
              "    .dataframe tbody tr th:only-of-type {\n",
              "        vertical-align: middle;\n",
              "    }\n",
              "\n",
              "    .dataframe tbody tr th {\n",
              "        vertical-align: top;\n",
              "    }\n",
              "\n",
              "    .dataframe thead th {\n",
              "        text-align: right;\n",
              "    }\n",
              "</style>\n",
              "<table border=\"1\" class=\"dataframe\">\n",
              "  <thead>\n",
              "    <tr style=\"text-align: right;\">\n",
              "      <th></th>\n",
              "      <th>Coluna 1</th>\n",
              "      <th>Coluna 2</th>\n",
              "      <th>Coluna 3</th>\n",
              "      <th>Coluna 4</th>\n",
              "    </tr>\n",
              "  </thead>\n",
              "  <tbody>\n",
              "    <tr>\n",
              "      <th>count</th>\n",
              "      <td>5.000000</td>\n",
              "      <td>5.000000</td>\n",
              "      <td>5.000000</td>\n",
              "      <td>5.000000</td>\n",
              "    </tr>\n",
              "    <tr>\n",
              "      <th>mean</th>\n",
              "      <td>-0.067201</td>\n",
              "      <td>0.206117</td>\n",
              "      <td>0.587594</td>\n",
              "      <td>-0.367883</td>\n",
              "    </tr>\n",
              "    <tr>\n",
              "      <th>std</th>\n",
              "      <td>0.360217</td>\n",
              "      <td>1.771044</td>\n",
              "      <td>0.809896</td>\n",
              "      <td>1.197785</td>\n",
              "    </tr>\n",
              "    <tr>\n",
              "      <th>min</th>\n",
              "      <td>-0.421049</td>\n",
              "      <td>-1.536148</td>\n",
              "      <td>-0.336650</td>\n",
              "      <td>-1.816756</td>\n",
              "    </tr>\n",
              "    <tr>\n",
              "      <th>25%</th>\n",
              "      <td>-0.289783</td>\n",
              "      <td>-1.441054</td>\n",
              "      <td>0.045876</td>\n",
              "      <td>-1.036175</td>\n",
              "    </tr>\n",
              "    <tr>\n",
              "      <th>50%</th>\n",
              "      <td>-0.268626</td>\n",
              "      <td>-0.070494</td>\n",
              "      <td>0.664798</td>\n",
              "      <td>-0.726161</td>\n",
              "    </tr>\n",
              "    <tr>\n",
              "      <th>75%</th>\n",
              "      <td>0.297490</td>\n",
              "      <td>2.014071</td>\n",
              "      <td>0.779100</td>\n",
              "      <td>0.852017</td>\n",
              "    </tr>\n",
              "    <tr>\n",
              "      <th>max</th>\n",
              "      <td>0.345960</td>\n",
              "      <td>2.064212</td>\n",
              "      <td>1.784845</td>\n",
              "      <td>0.887660</td>\n",
              "    </tr>\n",
              "  </tbody>\n",
              "</table>\n",
              "</div>"
            ],
            "text/plain": [
              "       Coluna 1  Coluna 2  Coluna 3  Coluna 4\n",
              "count  5.000000  5.000000  5.000000  5.000000\n",
              "mean  -0.067201  0.206117  0.587594 -0.367883\n",
              "std    0.360217  1.771044  0.809896  1.197785\n",
              "min   -0.421049 -1.536148 -0.336650 -1.816756\n",
              "25%   -0.289783 -1.441054  0.045876 -1.036175\n",
              "50%   -0.268626 -0.070494  0.664798 -0.726161\n",
              "75%    0.297490  2.014071  0.779100  0.852017\n",
              "max    0.345960  2.064212  1.784845  0.887660"
            ]
          },
          "execution_count": 4,
          "metadata": {},
          "output_type": "execute_result"
        }
      ],
      "source": [
        "df.describe()"
      ]
    },
    {
      "cell_type": "code",
      "execution_count": 5,
      "metadata": {
        "colab": {
          "base_uri": "https://localhost:8080/",
          "height": 143
        },
        "id": "QjwMalJcB9-D",
        "outputId": "5339d85b-723d-4c05-ba8e-de4b04a0f17c"
      },
      "outputs": [
        {
          "data": {
            "text/html": [
              "<div>\n",
              "<style scoped>\n",
              "    .dataframe tbody tr th:only-of-type {\n",
              "        vertical-align: middle;\n",
              "    }\n",
              "\n",
              "    .dataframe tbody tr th {\n",
              "        vertical-align: top;\n",
              "    }\n",
              "\n",
              "    .dataframe thead th {\n",
              "        text-align: right;\n",
              "    }\n",
              "</style>\n",
              "<table border=\"1\" class=\"dataframe\">\n",
              "  <thead>\n",
              "    <tr style=\"text-align: right;\">\n",
              "      <th></th>\n",
              "      <th>Coluna 1</th>\n",
              "      <th>Coluna 2</th>\n",
              "      <th>Coluna 3</th>\n",
              "      <th>Coluna 4</th>\n",
              "    </tr>\n",
              "  </thead>\n",
              "  <tbody>\n",
              "    <tr>\n",
              "      <th>0</th>\n",
              "      <td>0.345960</td>\n",
              "      <td>2.064212</td>\n",
              "      <td>-0.336650</td>\n",
              "      <td>0.852017</td>\n",
              "    </tr>\n",
              "    <tr>\n",
              "      <th>1</th>\n",
              "      <td>0.297490</td>\n",
              "      <td>2.014071</td>\n",
              "      <td>0.779100</td>\n",
              "      <td>-1.816756</td>\n",
              "    </tr>\n",
              "    <tr>\n",
              "      <th>2</th>\n",
              "      <td>-0.289783</td>\n",
              "      <td>-1.536148</td>\n",
              "      <td>0.664798</td>\n",
              "      <td>-1.036175</td>\n",
              "    </tr>\n",
              "  </tbody>\n",
              "</table>\n",
              "</div>"
            ],
            "text/plain": [
              "   Coluna 1  Coluna 2  Coluna 3  Coluna 4\n",
              "0  0.345960  2.064212 -0.336650  0.852017\n",
              "1  0.297490  2.014071  0.779100 -1.816756\n",
              "2 -0.289783 -1.536148  0.664798 -1.036175"
            ]
          },
          "execution_count": 5,
          "metadata": {},
          "output_type": "execute_result"
        }
      ],
      "source": [
        "df.head(3)"
      ]
    },
    {
      "cell_type": "code",
      "execution_count": 6,
      "metadata": {
        "colab": {
          "base_uri": "https://localhost:8080/"
        },
        "id": "KjkJI6L5_aRj",
        "outputId": "afb16145-38a6-4339-f21e-206f18514354"
      },
      "outputs": [
        {
          "data": {
            "text/plain": [
              "0    2.064212\n",
              "1    2.014071\n",
              "2   -1.536148\n",
              "3   -1.441054\n",
              "4   -0.070494\n",
              "Name: Coluna 2, dtype: float64"
            ]
          },
          "execution_count": 6,
          "metadata": {},
          "output_type": "execute_result"
        }
      ],
      "source": [
        "df['Coluna 2']"
      ]
    },
    {
      "cell_type": "code",
      "execution_count": 7,
      "metadata": {
        "colab": {
          "base_uri": "https://localhost:8080/",
          "height": 206
        },
        "id": "TWS3GuPn_c4s",
        "outputId": "d30325b9-4241-460c-a8fa-a6edceefe4b0"
      },
      "outputs": [
        {
          "data": {
            "text/html": [
              "<div>\n",
              "<style scoped>\n",
              "    .dataframe tbody tr th:only-of-type {\n",
              "        vertical-align: middle;\n",
              "    }\n",
              "\n",
              "    .dataframe tbody tr th {\n",
              "        vertical-align: top;\n",
              "    }\n",
              "\n",
              "    .dataframe thead th {\n",
              "        text-align: right;\n",
              "    }\n",
              "</style>\n",
              "<table border=\"1\" class=\"dataframe\">\n",
              "  <thead>\n",
              "    <tr style=\"text-align: right;\">\n",
              "      <th></th>\n",
              "      <th>Coluna 2</th>\n",
              "      <th>Coluna 4</th>\n",
              "    </tr>\n",
              "  </thead>\n",
              "  <tbody>\n",
              "    <tr>\n",
              "      <th>0</th>\n",
              "      <td>2.064212</td>\n",
              "      <td>0.852017</td>\n",
              "    </tr>\n",
              "    <tr>\n",
              "      <th>1</th>\n",
              "      <td>2.014071</td>\n",
              "      <td>-1.816756</td>\n",
              "    </tr>\n",
              "    <tr>\n",
              "      <th>2</th>\n",
              "      <td>-1.536148</td>\n",
              "      <td>-1.036175</td>\n",
              "    </tr>\n",
              "    <tr>\n",
              "      <th>3</th>\n",
              "      <td>-1.441054</td>\n",
              "      <td>-0.726161</td>\n",
              "    </tr>\n",
              "    <tr>\n",
              "      <th>4</th>\n",
              "      <td>-0.070494</td>\n",
              "      <td>0.887660</td>\n",
              "    </tr>\n",
              "  </tbody>\n",
              "</table>\n",
              "</div>"
            ],
            "text/plain": [
              "   Coluna 2  Coluna 4\n",
              "0  2.064212  0.852017\n",
              "1  2.014071 -1.816756\n",
              "2 -1.536148 -1.036175\n",
              "3 -1.441054 -0.726161\n",
              "4 -0.070494  0.887660"
            ]
          },
          "execution_count": 7,
          "metadata": {},
          "output_type": "execute_result"
        }
      ],
      "source": [
        "df[['Coluna 2', 'Coluna 4']]"
      ]
    },
    {
      "cell_type": "code",
      "execution_count": 8,
      "metadata": {
        "colab": {
          "base_uri": "https://localhost:8080/"
        },
        "id": "ywSuByia_jec",
        "outputId": "9a20b77e-833c-4719-8cbe-66821e3b34f6"
      },
      "outputs": [
        {
          "data": {
            "text/plain": [
              "0    0.009311\n",
              "1    1.076590\n",
              "2    0.375015\n",
              "3   -0.222749\n",
              "4    1.363796\n",
              "dtype: float64"
            ]
          },
          "execution_count": 8,
          "metadata": {},
          "output_type": "execute_result"
        }
      ],
      "source": [
        "df['Coluna 1'] + df['Coluna 3']"
      ]
    },
    {
      "cell_type": "code",
      "execution_count": 9,
      "metadata": {
        "colab": {
          "base_uri": "https://localhost:8080/",
          "height": 206
        },
        "id": "JfsM5An5_r00",
        "outputId": "8bd02d93-97d6-4fbb-be74-3aeff24dccf1"
      },
      "outputs": [
        {
          "data": {
            "text/html": [
              "<div>\n",
              "<style scoped>\n",
              "    .dataframe tbody tr th:only-of-type {\n",
              "        vertical-align: middle;\n",
              "    }\n",
              "\n",
              "    .dataframe tbody tr th {\n",
              "        vertical-align: top;\n",
              "    }\n",
              "\n",
              "    .dataframe thead th {\n",
              "        text-align: right;\n",
              "    }\n",
              "</style>\n",
              "<table border=\"1\" class=\"dataframe\">\n",
              "  <thead>\n",
              "    <tr style=\"text-align: right;\">\n",
              "      <th></th>\n",
              "      <th>Coluna 1</th>\n",
              "      <th>Coluna 2</th>\n",
              "      <th>Coluna 3</th>\n",
              "      <th>Coluna 4</th>\n",
              "      <th>Coluna 5</th>\n",
              "    </tr>\n",
              "  </thead>\n",
              "  <tbody>\n",
              "    <tr>\n",
              "      <th>0</th>\n",
              "      <td>0.345960</td>\n",
              "      <td>2.064212</td>\n",
              "      <td>-0.336650</td>\n",
              "      <td>0.852017</td>\n",
              "      <td>0.009311</td>\n",
              "    </tr>\n",
              "    <tr>\n",
              "      <th>1</th>\n",
              "      <td>0.297490</td>\n",
              "      <td>2.014071</td>\n",
              "      <td>0.779100</td>\n",
              "      <td>-1.816756</td>\n",
              "      <td>1.076590</td>\n",
              "    </tr>\n",
              "    <tr>\n",
              "      <th>2</th>\n",
              "      <td>-0.289783</td>\n",
              "      <td>-1.536148</td>\n",
              "      <td>0.664798</td>\n",
              "      <td>-1.036175</td>\n",
              "      <td>0.375015</td>\n",
              "    </tr>\n",
              "    <tr>\n",
              "      <th>3</th>\n",
              "      <td>-0.268626</td>\n",
              "      <td>-1.441054</td>\n",
              "      <td>0.045876</td>\n",
              "      <td>-0.726161</td>\n",
              "      <td>-0.222749</td>\n",
              "    </tr>\n",
              "    <tr>\n",
              "      <th>4</th>\n",
              "      <td>-0.421049</td>\n",
              "      <td>-0.070494</td>\n",
              "      <td>1.784845</td>\n",
              "      <td>0.887660</td>\n",
              "      <td>1.363796</td>\n",
              "    </tr>\n",
              "  </tbody>\n",
              "</table>\n",
              "</div>"
            ],
            "text/plain": [
              "   Coluna 1  Coluna 2  Coluna 3  Coluna 4  Coluna 5\n",
              "0  0.345960  2.064212 -0.336650  0.852017  0.009311\n",
              "1  0.297490  2.014071  0.779100 -1.816756  1.076590\n",
              "2 -0.289783 -1.536148  0.664798 -1.036175  0.375015\n",
              "3 -0.268626 -1.441054  0.045876 -0.726161 -0.222749\n",
              "4 -0.421049 -0.070494  1.784845  0.887660  1.363796"
            ]
          },
          "execution_count": 9,
          "metadata": {},
          "output_type": "execute_result"
        }
      ],
      "source": [
        "df['Coluna 5'] = df['Coluna 1'] + df['Coluna 3']\n",
        "df"
      ]
    },
    {
      "cell_type": "code",
      "execution_count": 10,
      "metadata": {
        "colab": {
          "base_uri": "https://localhost:8080/"
        },
        "id": "k64ZQcSk_0cQ",
        "outputId": "c8d055a6-8692-44e0-d1a4-5c7830a785a0"
      },
      "outputs": [
        {
          "data": {
            "text/plain": [
              "Coluna 1   -0.268626\n",
              "Coluna 2   -1.441054\n",
              "Coluna 3    0.045876\n",
              "Coluna 4   -0.726161\n",
              "Coluna 5   -0.222749\n",
              "Name: 3, dtype: float64"
            ]
          },
          "execution_count": 10,
          "metadata": {},
          "output_type": "execute_result"
        }
      ],
      "source": [
        "df.loc[3]"
      ]
    },
    {
      "cell_type": "code",
      "execution_count": 11,
      "metadata": {
        "colab": {
          "base_uri": "https://localhost:8080/"
        },
        "id": "F1cXkO05_5XR",
        "outputId": "8010638a-bf76-497e-a216-77c69608e632"
      },
      "outputs": [
        {
          "data": {
            "text/plain": [
              "Coluna 1   -0.289783\n",
              "Coluna 2   -1.536148\n",
              "Coluna 3    0.664798\n",
              "Coluna 4   -1.036175\n",
              "Coluna 5    0.375015\n",
              "Name: 2, dtype: float64"
            ]
          },
          "execution_count": 11,
          "metadata": {},
          "output_type": "execute_result"
        }
      ],
      "source": [
        "df.iloc[2]"
      ]
    },
    {
      "cell_type": "code",
      "execution_count": 12,
      "metadata": {
        "colab": {
          "base_uri": "https://localhost:8080/"
        },
        "id": "HMVZylw__9Lr",
        "outputId": "ae2ad6d5-e275-45f9-e3ac-bd87651d94e1"
      },
      "outputs": [
        {
          "data": {
            "text/plain": [
              "-1.0361749095489896"
            ]
          },
          "execution_count": 12,
          "metadata": {},
          "output_type": "execute_result"
        }
      ],
      "source": [
        "df.loc[2, 'Coluna 4']"
      ]
    },
    {
      "cell_type": "code",
      "execution_count": 13,
      "metadata": {
        "colab": {
          "base_uri": "https://localhost:8080/"
        },
        "id": "X4_VSIOBBPfU",
        "outputId": "15a86a68-6fd2-45f8-da02-e48f747863cf"
      },
      "outputs": [
        {
          "data": {
            "text/plain": [
              "0     True\n",
              "1    False\n",
              "2    False\n",
              "3    False\n",
              "4     True\n",
              "Name: Coluna 4, dtype: bool"
            ]
          },
          "execution_count": 13,
          "metadata": {},
          "output_type": "execute_result"
        }
      ],
      "source": [
        "df['Coluna 4'] > 0"
      ]
    },
    {
      "cell_type": "code",
      "execution_count": 14,
      "metadata": {
        "colab": {
          "base_uri": "https://localhost:8080/",
          "height": 175
        },
        "id": "2s5MBLFzAcaY",
        "outputId": "c9c8d9cf-2ae8-4522-84e9-5c7395041b56"
      },
      "outputs": [
        {
          "data": {
            "text/html": [
              "<div>\n",
              "<style scoped>\n",
              "    .dataframe tbody tr th:only-of-type {\n",
              "        vertical-align: middle;\n",
              "    }\n",
              "\n",
              "    .dataframe tbody tr th {\n",
              "        vertical-align: top;\n",
              "    }\n",
              "\n",
              "    .dataframe thead th {\n",
              "        text-align: right;\n",
              "    }\n",
              "</style>\n",
              "<table border=\"1\" class=\"dataframe\">\n",
              "  <thead>\n",
              "    <tr style=\"text-align: right;\">\n",
              "      <th></th>\n",
              "      <th>Coluna 1</th>\n",
              "      <th>Coluna 2</th>\n",
              "      <th>Coluna 3</th>\n",
              "      <th>Coluna 4</th>\n",
              "      <th>Coluna 5</th>\n",
              "    </tr>\n",
              "  </thead>\n",
              "  <tbody>\n",
              "    <tr>\n",
              "      <th>0</th>\n",
              "      <td>0.345960</td>\n",
              "      <td>2.064212</td>\n",
              "      <td>-0.336650</td>\n",
              "      <td>0.852017</td>\n",
              "      <td>0.009311</td>\n",
              "    </tr>\n",
              "    <tr>\n",
              "      <th>4</th>\n",
              "      <td>-0.421049</td>\n",
              "      <td>-0.070494</td>\n",
              "      <td>1.784845</td>\n",
              "      <td>0.887660</td>\n",
              "      <td>1.363796</td>\n",
              "    </tr>\n",
              "  </tbody>\n",
              "</table>\n",
              "</div>"
            ],
            "text/plain": [
              "   Coluna 1  Coluna 2  Coluna 3  Coluna 4  Coluna 5\n",
              "0  0.345960  2.064212 -0.336650  0.852017  0.009311\n",
              "4 -0.421049 -0.070494  1.784845  0.887660  1.363796"
            ]
          },
          "execution_count": 14,
          "metadata": {},
          "output_type": "execute_result"
        }
      ],
      "source": [
        "df[df['Coluna 4']>0]"
      ]
    },
    {
      "cell_type": "code",
      "execution_count": 15,
      "metadata": {
        "colab": {
          "base_uri": "https://localhost:8080/",
          "height": 444
        },
        "id": "XVhBuZAaC5Vj",
        "outputId": "8adc5784-7775-4fba-b6e9-5569b4bf17ad"
      },
      "outputs": [
        {
          "data": {
            "text/html": [
              "<div>\n",
              "<style scoped>\n",
              "    .dataframe tbody tr th:only-of-type {\n",
              "        vertical-align: middle;\n",
              "    }\n",
              "\n",
              "    .dataframe tbody tr th {\n",
              "        vertical-align: top;\n",
              "    }\n",
              "\n",
              "    .dataframe thead th {\n",
              "        text-align: right;\n",
              "    }\n",
              "</style>\n",
              "<table border=\"1\" class=\"dataframe\">\n",
              "  <thead>\n",
              "    <tr style=\"text-align: right;\">\n",
              "      <th></th>\n",
              "      <th>NOME_MUNICIPIO</th>\n",
              "      <th>CODIGO</th>\n",
              "      <th>GENTILICO</th>\n",
              "      <th>PREFEITO2017</th>\n",
              "      <th>AREA</th>\n",
              "      <th>POPESTIMADA</th>\n",
              "      <th>DENSIDADE</th>\n",
              "      <th>ESCOLARIZACAO</th>\n",
              "      <th>IDHM</th>\n",
              "      <th>MORTALIDADE</th>\n",
              "      <th>RECEITAS</th>\n",
              "      <th>DESPESAS</th>\n",
              "      <th>PIB</th>\n",
              "    </tr>\n",
              "  </thead>\n",
              "  <tbody>\n",
              "    <tr>\n",
              "      <th>0</th>\n",
              "      <td>Acorizal</td>\n",
              "      <td>5100102</td>\n",
              "      <td>acorizano</td>\n",
              "      <td>CLODOALDO MONTEIRO DA SILVA</td>\n",
              "      <td>1014.029</td>\n",
              "      <td>5424</td>\n",
              "      <td>6.56</td>\n",
              "      <td>96.6</td>\n",
              "      <td>0.628</td>\n",
              "      <td>16.13</td>\n",
              "      <td>NaN</td>\n",
              "      <td>NaN</td>\n",
              "      <td>13362.95</td>\n",
              "    </tr>\n",
              "    <tr>\n",
              "      <th>1</th>\n",
              "      <td>Água Boa</td>\n",
              "      <td>5100201</td>\n",
              "      <td>água-boense</td>\n",
              "      <td>MAURO ROSA DA SILVA</td>\n",
              "      <td>7510.635</td>\n",
              "      <td>25229</td>\n",
              "      <td>2.79</td>\n",
              "      <td>99.2</td>\n",
              "      <td>0.729</td>\n",
              "      <td>10.23</td>\n",
              "      <td>92166.40674</td>\n",
              "      <td>81874.15633</td>\n",
              "      <td>37449.63</td>\n",
              "    </tr>\n",
              "    <tr>\n",
              "      <th>2</th>\n",
              "      <td>Alta Floresta</td>\n",
              "      <td>5100250</td>\n",
              "      <td>alta-florestense</td>\n",
              "      <td>ASIEL BEZERRA DE ARAUJO</td>\n",
              "      <td>8953.191</td>\n",
              "      <td>51615</td>\n",
              "      <td>5.48</td>\n",
              "      <td>98.0</td>\n",
              "      <td>0.714</td>\n",
              "      <td>19.19</td>\n",
              "      <td>146439.79095</td>\n",
              "      <td>118288.01810</td>\n",
              "      <td>31623.80</td>\n",
              "    </tr>\n",
              "    <tr>\n",
              "      <th>3</th>\n",
              "      <td>Alto Araguaia</td>\n",
              "      <td>5100300</td>\n",
              "      <td>araguaiano</td>\n",
              "      <td>GUSTAVO DE MELO ANICEZIO</td>\n",
              "      <td>5399.326</td>\n",
              "      <td>18703</td>\n",
              "      <td>2.84</td>\n",
              "      <td>96.7</td>\n",
              "      <td>0.704</td>\n",
              "      <td>9.09</td>\n",
              "      <td>63035.52537</td>\n",
              "      <td>55216.26966</td>\n",
              "      <td>50298.54</td>\n",
              "    </tr>\n",
              "    <tr>\n",
              "      <th>4</th>\n",
              "      <td>Alto Boa Vista</td>\n",
              "      <td>5100359</td>\n",
              "      <td>alto boa vistense</td>\n",
              "      <td>VALTUIR CANDIDO DA SILVA</td>\n",
              "      <td>2240.438</td>\n",
              "      <td>6659</td>\n",
              "      <td>2.34</td>\n",
              "      <td>96.8</td>\n",
              "      <td>0.651</td>\n",
              "      <td>37.04</td>\n",
              "      <td>23227.72780</td>\n",
              "      <td>20002.89582</td>\n",
              "      <td>16877.29</td>\n",
              "    </tr>\n",
              "  </tbody>\n",
              "</table>\n",
              "</div>"
            ],
            "text/plain": [
              "   NOME_MUNICIPIO   CODIGO          GENTILICO                 PREFEITO2017  \\\n",
              "0        Acorizal  5100102          acorizano  CLODOALDO MONTEIRO DA SILVA   \n",
              "1        Água Boa  5100201        água-boense          MAURO ROSA DA SILVA   \n",
              "2   Alta Floresta  5100250   alta-florestense      ASIEL BEZERRA DE ARAUJO   \n",
              "3   Alto Araguaia  5100300         araguaiano     GUSTAVO DE MELO ANICEZIO   \n",
              "4  Alto Boa Vista  5100359  alto boa vistense     VALTUIR CANDIDO DA SILVA   \n",
              "\n",
              "       AREA  POPESTIMADA  DENSIDADE  ESCOLARIZACAO   IDHM MORTALIDADE  \\\n",
              "0  1014.029         5424       6.56           96.6  0.628       16.13   \n",
              "1  7510.635        25229       2.79           99.2  0.729       10.23   \n",
              "2  8953.191        51615       5.48           98.0  0.714       19.19   \n",
              "3  5399.326        18703       2.84           96.7  0.704        9.09   \n",
              "4  2240.438         6659       2.34           96.8  0.651       37.04   \n",
              "\n",
              "       RECEITAS      DESPESAS       PIB  \n",
              "0           NaN           NaN  13362.95  \n",
              "1   92166.40674   81874.15633  37449.63  \n",
              "2  146439.79095  118288.01810  31623.80  \n",
              "3   63035.52537   55216.26966  50298.54  \n",
              "4   23227.72780   20002.89582  16877.29  "
            ]
          },
          "execution_count": 15,
          "metadata": {},
          "output_type": "execute_result"
        }
      ],
      "source": [
        "df = pd.read_csv('../datas/matogrosso.csv')\n",
        "df.head()"
      ]
    },
    {
      "cell_type": "code",
      "execution_count": 16,
      "metadata": {},
      "outputs": [
        {
          "data": {
            "text/plain": [
              "NOME_MUNICIPIO    141\n",
              "CODIGO            141\n",
              "GENTILICO         141\n",
              "PREFEITO2017      141\n",
              "AREA              141\n",
              "POPESTIMADA       141\n",
              "DENSIDADE         141\n",
              "ESCOLARIZACAO     141\n",
              "IDHM              141\n",
              "MORTALIDADE       141\n",
              "RECEITAS          139\n",
              "DESPESAS          139\n",
              "PIB               141\n",
              "dtype: int64"
            ]
          },
          "execution_count": 16,
          "metadata": {},
          "output_type": "execute_result"
        }
      ],
      "source": [
        "df.count()"
      ]
    },
    {
      "cell_type": "code",
      "execution_count": 17,
      "metadata": {},
      "outputs": [
        {
          "name": "stdout",
          "output_type": "stream",
          "text": [
            "<class 'pandas.core.frame.DataFrame'>\n",
            "RangeIndex: 141 entries, 0 to 140\n",
            "Data columns (total 13 columns):\n",
            " #   Column          Non-Null Count  Dtype  \n",
            "---  ------          --------------  -----  \n",
            " 0   NOME_MUNICIPIO  141 non-null    object \n",
            " 1   CODIGO          141 non-null    int64  \n",
            " 2   GENTILICO       141 non-null    object \n",
            " 3   PREFEITO2017    141 non-null    object \n",
            " 4   AREA            141 non-null    float64\n",
            " 5   POPESTIMADA     141 non-null    int64  \n",
            " 6   DENSIDADE       141 non-null    float64\n",
            " 7   ESCOLARIZACAO   141 non-null    float64\n",
            " 8   IDHM            141 non-null    float64\n",
            " 9   MORTALIDADE     141 non-null    object \n",
            " 10  RECEITAS        139 non-null    float64\n",
            " 11  DESPESAS        139 non-null    float64\n",
            " 12  PIB             141 non-null    float64\n",
            "dtypes: float64(7), int64(2), object(4)\n",
            "memory usage: 14.4+ KB\n"
          ]
        }
      ],
      "source": [
        "df.info()"
      ]
    },
    {
      "cell_type": "markdown",
      "metadata": {},
      "source": [
        "Seria viável preencher os valores nulos? Se sim, como?\n",
        "\n",
        "Sim, poderia utilizar a média. da receitas e despesas;"
      ]
    },
    {
      "cell_type": "code",
      "execution_count": 18,
      "metadata": {},
      "outputs": [
        {
          "data": {
            "text/plain": [
              "NOME_MUNICIPIO    0\n",
              "CODIGO            0\n",
              "GENTILICO         0\n",
              "PREFEITO2017      0\n",
              "AREA              0\n",
              "POPESTIMADA       0\n",
              "DENSIDADE         0\n",
              "ESCOLARIZACAO     0\n",
              "IDHM              0\n",
              "MORTALIDADE       0\n",
              "RECEITAS          2\n",
              "DESPESAS          2\n",
              "PIB               0\n",
              "dtype: int64"
            ]
          },
          "execution_count": 18,
          "metadata": {},
          "output_type": "execute_result"
        }
      ],
      "source": [
        "df.isnull().sum()"
      ]
    },
    {
      "cell_type": "code",
      "execution_count": 19,
      "metadata": {},
      "outputs": [
        {
          "data": {
            "text/html": [
              "<div>\n",
              "<style scoped>\n",
              "    .dataframe tbody tr th:only-of-type {\n",
              "        vertical-align: middle;\n",
              "    }\n",
              "\n",
              "    .dataframe tbody tr th {\n",
              "        vertical-align: top;\n",
              "    }\n",
              "\n",
              "    .dataframe thead th {\n",
              "        text-align: right;\n",
              "    }\n",
              "</style>\n",
              "<table border=\"1\" class=\"dataframe\">\n",
              "  <thead>\n",
              "    <tr style=\"text-align: right;\">\n",
              "      <th></th>\n",
              "      <th>CODIGO</th>\n",
              "      <th>AREA</th>\n",
              "      <th>POPESTIMADA</th>\n",
              "      <th>DENSIDADE</th>\n",
              "      <th>ESCOLARIZACAO</th>\n",
              "      <th>IDHM</th>\n",
              "      <th>RECEITAS</th>\n",
              "      <th>DESPESAS</th>\n",
              "      <th>PIB</th>\n",
              "    </tr>\n",
              "  </thead>\n",
              "  <tbody>\n",
              "    <tr>\n",
              "      <th>count</th>\n",
              "      <td>1.410000e+02</td>\n",
              "      <td>141.000000</td>\n",
              "      <td>141.000000</td>\n",
              "      <td>141.000000</td>\n",
              "      <td>141.000000</td>\n",
              "      <td>141.000000</td>\n",
              "      <td>1.390000e+02</td>\n",
              "      <td>1.390000e+02</td>\n",
              "      <td>141.000000</td>\n",
              "    </tr>\n",
              "    <tr>\n",
              "      <th>mean</th>\n",
              "      <td>5.105245e+06</td>\n",
              "      <td>6405.723383</td>\n",
              "      <td>24411.333333</td>\n",
              "      <td>6.761064</td>\n",
              "      <td>96.210638</td>\n",
              "      <td>0.684291</td>\n",
              "      <td>8.065079e+04</td>\n",
              "      <td>7.103262e+04</td>\n",
              "      <td>36405.058227</td>\n",
              "    </tr>\n",
              "    <tr>\n",
              "      <th>std</th>\n",
              "      <td>2.412223e+03</td>\n",
              "      <td>5992.917862</td>\n",
              "      <td>60490.749298</td>\n",
              "      <td>24.399358</td>\n",
              "      <td>3.881231</td>\n",
              "      <td>0.038266</td>\n",
              "      <td>2.024381e+05</td>\n",
              "      <td>1.895732e+05</td>\n",
              "      <td>28279.347030</td>\n",
              "    </tr>\n",
              "    <tr>\n",
              "      <th>min</th>\n",
              "      <td>5.100102e+06</td>\n",
              "      <td>344.050000</td>\n",
              "      <td>956.000000</td>\n",
              "      <td>0.280000</td>\n",
              "      <td>66.300000</td>\n",
              "      <td>0.538000</td>\n",
              "      <td>1.189321e+04</td>\n",
              "      <td>1.048690e+04</td>\n",
              "      <td>10060.570000</td>\n",
              "    </tr>\n",
              "    <tr>\n",
              "      <th>25%</th>\n",
              "      <td>5.103361e+06</td>\n",
              "      <td>2375.578000</td>\n",
              "      <td>5159.000000</td>\n",
              "      <td>1.150000</td>\n",
              "      <td>95.700000</td>\n",
              "      <td>0.661000</td>\n",
              "      <td>2.219405e+04</td>\n",
              "      <td>1.887332e+04</td>\n",
              "      <td>18911.200000</td>\n",
              "    </tr>\n",
              "    <tr>\n",
              "      <th>50%</th>\n",
              "      <td>5.106109e+06</td>\n",
              "      <td>4533.010000</td>\n",
              "      <td>10700.000000</td>\n",
              "      <td>2.290000</td>\n",
              "      <td>97.200000</td>\n",
              "      <td>0.686000</td>\n",
              "      <td>3.768642e+04</td>\n",
              "      <td>3.282035e+04</td>\n",
              "      <td>27593.860000</td>\n",
              "    </tr>\n",
              "    <tr>\n",
              "      <th>75%</th>\n",
              "      <td>5.107206e+06</td>\n",
              "      <td>8567.455000</td>\n",
              "      <td>20312.000000</td>\n",
              "      <td>4.410000</td>\n",
              "      <td>98.100000</td>\n",
              "      <td>0.707000</td>\n",
              "      <td>6.560990e+04</td>\n",
              "      <td>5.576538e+04</td>\n",
              "      <td>42370.030000</td>\n",
              "    </tr>\n",
              "    <tr>\n",
              "      <th>max</th>\n",
              "      <td>5.108956e+06</td>\n",
              "      <td>27946.126000</td>\n",
              "      <td>607153.000000</td>\n",
              "      <td>240.980000</td>\n",
              "      <td>99.700000</td>\n",
              "      <td>0.785000</td>\n",
              "      <td>2.153679e+06</td>\n",
              "      <td>2.043592e+06</td>\n",
              "      <td>202309.420000</td>\n",
              "    </tr>\n",
              "  </tbody>\n",
              "</table>\n",
              "</div>"
            ],
            "text/plain": [
              "             CODIGO          AREA    POPESTIMADA   DENSIDADE  ESCOLARIZACAO  \\\n",
              "count  1.410000e+02    141.000000     141.000000  141.000000     141.000000   \n",
              "mean   5.105245e+06   6405.723383   24411.333333    6.761064      96.210638   \n",
              "std    2.412223e+03   5992.917862   60490.749298   24.399358       3.881231   \n",
              "min    5.100102e+06    344.050000     956.000000    0.280000      66.300000   \n",
              "25%    5.103361e+06   2375.578000    5159.000000    1.150000      95.700000   \n",
              "50%    5.106109e+06   4533.010000   10700.000000    2.290000      97.200000   \n",
              "75%    5.107206e+06   8567.455000   20312.000000    4.410000      98.100000   \n",
              "max    5.108956e+06  27946.126000  607153.000000  240.980000      99.700000   \n",
              "\n",
              "             IDHM      RECEITAS      DESPESAS            PIB  \n",
              "count  141.000000  1.390000e+02  1.390000e+02     141.000000  \n",
              "mean     0.684291  8.065079e+04  7.103262e+04   36405.058227  \n",
              "std      0.038266  2.024381e+05  1.895732e+05   28279.347030  \n",
              "min      0.538000  1.189321e+04  1.048690e+04   10060.570000  \n",
              "25%      0.661000  2.219405e+04  1.887332e+04   18911.200000  \n",
              "50%      0.686000  3.768642e+04  3.282035e+04   27593.860000  \n",
              "75%      0.707000  6.560990e+04  5.576538e+04   42370.030000  \n",
              "max      0.785000  2.153679e+06  2.043592e+06  202309.420000  "
            ]
          },
          "execution_count": 19,
          "metadata": {},
          "output_type": "execute_result"
        }
      ],
      "source": [
        "df.describe()"
      ]
    },
    {
      "cell_type": "code",
      "execution_count": 20,
      "metadata": {},
      "outputs": [
        {
          "data": {
            "image/png": "[encoded data removed]",
            "text/plain": [
              "<Figure size 640x480 with 1 Axes>"
            ]
          },
          "metadata": {},
          "output_type": "display_data"
        }
      ],
      "source": [
        "plt.plot(df['CODIGO'], df['POPESTIMADA'], label = \"População estimada\")\n",
        "plt.xlabel('Código municipio')\n",
        "plt.ylabel('População estimada')\n",
        "plt.title('População estimada por municipio')\n",
        "plt.show()"
      ]
    },
    {
      "cell_type": "code",
      "execution_count": 21,
      "metadata": {},
      "outputs": [
        {
          "data": {
            "image/png": "[encoded data removed]",
            "text/plain": [
              "<Figure size 640x480 with 1 Axes>"
            ]
          },
          "metadata": {},
          "output_type": "display_data"
        }
      ],
      "source": [
        "plt.plot(df['CODIGO'], df['ESCOLARIZACAO'], label = \"line 2\") \n",
        "plt.xlabel('Código municipio')\n",
        "plt.ylabel('Escolarização')\n",
        "plt.title('Escolarização por municipio')\n",
        "plt.show()"
      ]
    },
    {
      "cell_type": "code",
      "execution_count": 22,
      "metadata": {},
      "outputs": [
        {
          "data": {
            "image/png": "[encoded data removed]",
            "text/plain": [
              "<Figure size 640x480 with 1 Axes>"
            ]
          },
          "metadata": {},
          "output_type": "display_data"
        }
      ],
      "source": [
        "plt.plot(df['CODIGO'], df['MORTALIDADE']) \n",
        "plt.xlabel('Código municipio')\n",
        "plt.ylabel('Motalidade')\n",
        "plt.title('Motalidade por municipio')\n",
        "plt.show()"
      ]
    },
    {
      "cell_type": "code",
      "execution_count": 23,
      "metadata": {},
      "outputs": [
        {
          "data": {
            "image/png": "[encoded data removed]",
            "text/plain": [
              "<Figure size 640x480 with 1 Axes>"
            ]
          },
          "metadata": {},
          "output_type": "display_data"
        }
      ],
      "source": [
        "plt.plot(df['CODIGO'], df['PIB']) \n",
        "plt.xlabel('Código municipio')\n",
        "plt.ylabel('PIB')\n",
        "plt.title('PIB por municipio')\n",
        "plt.show()"
      ]
    },
    {
      "cell_type": "markdown",
      "metadata": {},
      "source": [
        "Qual a média da área das cidades?"
      ]
    },
    {
      "cell_type": "code",
      "execution_count": 24,
      "metadata": {},
      "outputs": [
        {
          "data": {
            "text/plain": [
              "6405.723382978724"
            ]
          },
          "execution_count": 24,
          "metadata": {},
          "output_type": "execute_result"
        }
      ],
      "source": [
        "df['AREA'].mean()"
      ]
    },
    {
      "cell_type": "markdown",
      "metadata": {},
      "source": [
        "Qual a cidade com a menor população?"
      ]
    },
    {
      "cell_type": "code",
      "execution_count": 25,
      "metadata": {},
      "outputs": [
        {
          "data": {
            "text/html": [
              "<div>\n",
              "<style scoped>\n",
              "    .dataframe tbody tr th:only-of-type {\n",
              "        vertical-align: middle;\n",
              "    }\n",
              "\n",
              "    .dataframe tbody tr th {\n",
              "        vertical-align: top;\n",
              "    }\n",
              "\n",
              "    .dataframe thead th {\n",
              "        text-align: right;\n",
              "    }\n",
              "</style>\n",
              "<table border=\"1\" class=\"dataframe\">\n",
              "  <thead>\n",
              "    <tr style=\"text-align: right;\">\n",
              "      <th></th>\n",
              "      <th>NOME_MUNICIPIO</th>\n",
              "      <th>CODIGO</th>\n",
              "      <th>GENTILICO</th>\n",
              "      <th>PREFEITO2017</th>\n",
              "      <th>AREA</th>\n",
              "      <th>POPESTIMADA</th>\n",
              "      <th>DENSIDADE</th>\n",
              "      <th>ESCOLARIZACAO</th>\n",
              "      <th>IDHM</th>\n",
              "      <th>MORTALIDADE</th>\n",
              "      <th>RECEITAS</th>\n",
              "      <th>DESPESAS</th>\n",
              "      <th>PIB</th>\n",
              "    </tr>\n",
              "  </thead>\n",
              "  <tbody>\n",
              "    <tr>\n",
              "      <th>10</th>\n",
              "      <td>Araguainha</td>\n",
              "      <td>5101209</td>\n",
              "      <td>araguainhense</td>\n",
              "      <td>SILVIO JOSÉ DE MORAIS FILHO</td>\n",
              "      <td>688.326</td>\n",
              "      <td>956</td>\n",
              "      <td>1.59</td>\n",
              "      <td>98.1</td>\n",
              "      <td>0.701</td>\n",
              "      <td>125.00</td>\n",
              "      <td>11893.20692</td>\n",
              "      <td>10486.89734</td>\n",
              "      <td>19395.16</td>\n",
              "    </tr>\n",
              "  </tbody>\n",
              "</table>\n",
              "</div>"
            ],
            "text/plain": [
              "   NOME_MUNICIPIO   CODIGO      GENTILICO                 PREFEITO2017  \\\n",
              "10     Araguainha  5101209  araguainhense  SILVIO JOSÉ DE MORAIS FILHO   \n",
              "\n",
              "       AREA  POPESTIMADA  DENSIDADE  ESCOLARIZACAO   IDHM MORTALIDADE  \\\n",
              "10  688.326          956       1.59           98.1  0.701      125.00   \n",
              "\n",
              "       RECEITAS     DESPESAS       PIB  \n",
              "10  11893.20692  10486.89734  19395.16  "
            ]
          },
          "execution_count": 25,
          "metadata": {},
          "output_type": "execute_result"
        }
      ],
      "source": [
        "df[df[\"POPESTIMADA\"] == df[\"POPESTIMADA\"].min()]"
      ]
    },
    {
      "cell_type": "markdown",
      "metadata": {},
      "source": [
        "Qual a cidade com o maior IDHM?"
      ]
    },
    {
      "cell_type": "code",
      "execution_count": 26,
      "metadata": {},
      "outputs": [
        {
          "data": {
            "text/html": [
              "<div>\n",
              "<style scoped>\n",
              "    .dataframe tbody tr th:only-of-type {\n",
              "        vertical-align: middle;\n",
              "    }\n",
              "\n",
              "    .dataframe tbody tr th {\n",
              "        vertical-align: top;\n",
              "    }\n",
              "\n",
              "    .dataframe thead th {\n",
              "        text-align: right;\n",
              "    }\n",
              "</style>\n",
              "<table border=\"1\" class=\"dataframe\">\n",
              "  <thead>\n",
              "    <tr style=\"text-align: right;\">\n",
              "      <th></th>\n",
              "      <th>NOME_MUNICIPIO</th>\n",
              "      <th>CODIGO</th>\n",
              "      <th>GENTILICO</th>\n",
              "      <th>PREFEITO2017</th>\n",
              "      <th>AREA</th>\n",
              "      <th>POPESTIMADA</th>\n",
              "      <th>DENSIDADE</th>\n",
              "      <th>ESCOLARIZACAO</th>\n",
              "      <th>IDHM</th>\n",
              "      <th>MORTALIDADE</th>\n",
              "      <th>RECEITAS</th>\n",
              "      <th>DESPESAS</th>\n",
              "      <th>PIB</th>\n",
              "    </tr>\n",
              "  </thead>\n",
              "  <tbody>\n",
              "    <tr>\n",
              "      <th>37</th>\n",
              "      <td>Cuiabá</td>\n",
              "      <td>5103403</td>\n",
              "      <td>cuiabano (papa peixe)</td>\n",
              "      <td>EMANUEL PINHEIRO</td>\n",
              "      <td>3266.538</td>\n",
              "      <td>607153</td>\n",
              "      <td>157.66</td>\n",
              "      <td>95.8</td>\n",
              "      <td>0.785</td>\n",
              "      <td>11.52</td>\n",
              "      <td>2.153679e+06</td>\n",
              "      <td>2.043592e+06</td>\n",
              "      <td>37930.34</td>\n",
              "    </tr>\n",
              "  </tbody>\n",
              "</table>\n",
              "</div>"
            ],
            "text/plain": [
              "   NOME_MUNICIPIO   CODIGO              GENTILICO      PREFEITO2017      AREA  \\\n",
              "37         Cuiabá  5103403  cuiabano (papa peixe)  EMANUEL PINHEIRO  3266.538   \n",
              "\n",
              "    POPESTIMADA  DENSIDADE  ESCOLARIZACAO   IDHM MORTALIDADE      RECEITAS  \\\n",
              "37       607153     157.66           95.8  0.785       11.52  2.153679e+06   \n",
              "\n",
              "        DESPESAS       PIB  \n",
              "37  2.043592e+06  37930.34  "
            ]
          },
          "execution_count": 26,
          "metadata": {},
          "output_type": "execute_result"
        }
      ],
      "source": [
        "df[df[\"IDHM\"] == df[\"IDHM\"].max()]"
      ]
    },
    {
      "cell_type": "markdown",
      "metadata": {},
      "source": [
        "Liste os prefeitos das cidades com PIB maior que 100.000"
      ]
    },
    {
      "cell_type": "code",
      "execution_count": 27,
      "metadata": {},
      "outputs": [
        {
          "data": {
            "text/html": [
              "<div>\n",
              "<style scoped>\n",
              "    .dataframe tbody tr th:only-of-type {\n",
              "        vertical-align: middle;\n",
              "    }\n",
              "\n",
              "    .dataframe tbody tr th {\n",
              "        vertical-align: top;\n",
              "    }\n",
              "\n",
              "    .dataframe thead th {\n",
              "        text-align: right;\n",
              "    }\n",
              "</style>\n",
              "<table border=\"1\" class=\"dataframe\">\n",
              "  <thead>\n",
              "    <tr style=\"text-align: right;\">\n",
              "      <th></th>\n",
              "      <th>NOME_MUNICIPIO</th>\n",
              "      <th>CODIGO</th>\n",
              "      <th>GENTILICO</th>\n",
              "      <th>PREFEITO2017</th>\n",
              "      <th>AREA</th>\n",
              "      <th>POPESTIMADA</th>\n",
              "      <th>DENSIDADE</th>\n",
              "      <th>ESCOLARIZACAO</th>\n",
              "      <th>IDHM</th>\n",
              "      <th>MORTALIDADE</th>\n",
              "      <th>RECEITAS</th>\n",
              "      <th>DESPESAS</th>\n",
              "      <th>PIB</th>\n",
              "    </tr>\n",
              "  </thead>\n",
              "  <tbody>\n",
              "    <tr>\n",
              "      <th>7</th>\n",
              "      <td>Alto Taquari</td>\n",
              "      <td>5100607</td>\n",
              "      <td>taquariense</td>\n",
              "      <td>FÁBIO MAURI GARBUGIO</td>\n",
              "      <td>1440.399</td>\n",
              "      <td>10557</td>\n",
              "      <td>5.70</td>\n",
              "      <td>98.3</td>\n",
              "      <td>0.705</td>\n",
              "      <td>6.13</td>\n",
              "      <td>53111.83829</td>\n",
              "      <td>42129.43950</td>\n",
              "      <td>104237.70</td>\n",
              "    </tr>\n",
              "    <tr>\n",
              "      <th>23</th>\n",
              "      <td>Campos de Júlio</td>\n",
              "      <td>5102686</td>\n",
              "      <td>campo juliense</td>\n",
              "      <td>JOSE ODIL DA SILVA</td>\n",
              "      <td>6787.282</td>\n",
              "      <td>6710</td>\n",
              "      <td>0.76</td>\n",
              "      <td>97.9</td>\n",
              "      <td>0.744</td>\n",
              "      <td>7.41</td>\n",
              "      <td>50917.04439</td>\n",
              "      <td>46033.36262</td>\n",
              "      <td>202309.42</td>\n",
              "    </tr>\n",
              "    <tr>\n",
              "      <th>40</th>\n",
              "      <td>Diamantino</td>\n",
              "      <td>5103502</td>\n",
              "      <td>diamantinense</td>\n",
              "      <td>EDUARDO CAPISTRANO DE OLIVEIRA</td>\n",
              "      <td>8191.677</td>\n",
              "      <td>21904</td>\n",
              "      <td>2.47</td>\n",
              "      <td>98.1</td>\n",
              "      <td>0.718</td>\n",
              "      <td>4.90</td>\n",
              "      <td>95669.46642</td>\n",
              "      <td>84475.11219</td>\n",
              "      <td>104092.58</td>\n",
              "    </tr>\n",
              "    <tr>\n",
              "      <th>79</th>\n",
              "      <td>Nova Ubiratã</td>\n",
              "      <td>5106240</td>\n",
              "      <td>novo-ubiratãenses</td>\n",
              "      <td>VALDENIR JOSE DOS SANTOS</td>\n",
              "      <td>12500.114</td>\n",
              "      <td>11694</td>\n",
              "      <td>0.73</td>\n",
              "      <td>96.6</td>\n",
              "      <td>0.669</td>\n",
              "      <td>10.58</td>\n",
              "      <td>56815.66295</td>\n",
              "      <td>50075.99932</td>\n",
              "      <td>115474.99</td>\n",
              "    </tr>\n",
              "    <tr>\n",
              "      <th>117</th>\n",
              "      <td>Santa Rita do Trivelato</td>\n",
              "      <td>5107768</td>\n",
              "      <td>trivelatenses</td>\n",
              "      <td>EGON HOEPERS</td>\n",
              "      <td>4734.930</td>\n",
              "      <td>3330</td>\n",
              "      <td>0.53</td>\n",
              "      <td>97.3</td>\n",
              "      <td>0.735</td>\n",
              "      <td>19.23</td>\n",
              "      <td>27058.96957</td>\n",
              "      <td>23542.97413</td>\n",
              "      <td>167966.16</td>\n",
              "    </tr>\n",
              "    <tr>\n",
              "      <th>122</th>\n",
              "      <td>Sapezal</td>\n",
              "      <td>5107875</td>\n",
              "      <td>sapezalense</td>\n",
              "      <td>VALCIR CASAGRANDE</td>\n",
              "      <td>13624.368</td>\n",
              "      <td>25054</td>\n",
              "      <td>1.33</td>\n",
              "      <td>98.1</td>\n",
              "      <td>0.732</td>\n",
              "      <td>13.16</td>\n",
              "      <td>108771.31990</td>\n",
              "      <td>93547.81742</td>\n",
              "      <td>113763.91</td>\n",
              "    </tr>\n",
              "  </tbody>\n",
              "</table>\n",
              "</div>"
            ],
            "text/plain": [
              "              NOME_MUNICIPIO   CODIGO          GENTILICO  \\\n",
              "7               Alto Taquari  5100607        taquariense   \n",
              "23           Campos de Júlio  5102686     campo juliense   \n",
              "40                Diamantino  5103502      diamantinense   \n",
              "79              Nova Ubiratã  5106240  novo-ubiratãenses   \n",
              "117  Santa Rita do Trivelato  5107768      trivelatenses   \n",
              "122                  Sapezal  5107875        sapezalense   \n",
              "\n",
              "                       PREFEITO2017       AREA  POPESTIMADA  DENSIDADE  \\\n",
              "7              FÁBIO MAURI GARBUGIO   1440.399        10557       5.70   \n",
              "23               JOSE ODIL DA SILVA   6787.282         6710       0.76   \n",
              "40   EDUARDO CAPISTRANO DE OLIVEIRA   8191.677        21904       2.47   \n",
              "79         VALDENIR JOSE DOS SANTOS  12500.114        11694       0.73   \n",
              "117                    EGON HOEPERS   4734.930         3330       0.53   \n",
              "122               VALCIR CASAGRANDE  13624.368        25054       1.33   \n",
              "\n",
              "     ESCOLARIZACAO   IDHM MORTALIDADE      RECEITAS     DESPESAS        PIB  \n",
              "7             98.3  0.705        6.13   53111.83829  42129.43950  104237.70  \n",
              "23            97.9  0.744        7.41   50917.04439  46033.36262  202309.42  \n",
              "40            98.1  0.718        4.90   95669.46642  84475.11219  104092.58  \n",
              "79            96.6  0.669       10.58   56815.66295  50075.99932  115474.99  \n",
              "117           97.3  0.735       19.23   27058.96957  23542.97413  167966.16  \n",
              "122           98.1  0.732       13.16  108771.31990  93547.81742  113763.91  "
            ]
          },
          "execution_count": 27,
          "metadata": {},
          "output_type": "execute_result"
        }
      ],
      "source": [
        "df[df[\"PIB\"] > 100000]"
      ]
    },
    {
      "cell_type": "markdown",
      "metadata": {},
      "source": [
        "Crie uma nova coluna chamada SALDO que é o resultado de RECEITAS - DESPESAS"
      ]
    },
    {
      "cell_type": "code",
      "execution_count": 28,
      "metadata": {},
      "outputs": [
        {
          "data": {
            "text/html": [
              "<div>\n",
              "<style scoped>\n",
              "    .dataframe tbody tr th:only-of-type {\n",
              "        vertical-align: middle;\n",
              "    }\n",
              "\n",
              "    .dataframe tbody tr th {\n",
              "        vertical-align: top;\n",
              "    }\n",
              "\n",
              "    .dataframe thead th {\n",
              "        text-align: right;\n",
              "    }\n",
              "</style>\n",
              "<table border=\"1\" class=\"dataframe\">\n",
              "  <thead>\n",
              "    <tr style=\"text-align: right;\">\n",
              "      <th></th>\n",
              "      <th>NOME_MUNICIPIO</th>\n",
              "      <th>CODIGO</th>\n",
              "      <th>GENTILICO</th>\n",
              "      <th>PREFEITO2017</th>\n",
              "      <th>AREA</th>\n",
              "      <th>POPESTIMADA</th>\n",
              "      <th>DENSIDADE</th>\n",
              "      <th>ESCOLARIZACAO</th>\n",
              "      <th>IDHM</th>\n",
              "      <th>MORTALIDADE</th>\n",
              "      <th>RECEITAS</th>\n",
              "      <th>DESPESAS</th>\n",
              "      <th>PIB</th>\n",
              "      <th>SALDO</th>\n",
              "    </tr>\n",
              "  </thead>\n",
              "  <tbody>\n",
              "    <tr>\n",
              "      <th>0</th>\n",
              "      <td>Acorizal</td>\n",
              "      <td>5100102</td>\n",
              "      <td>acorizano</td>\n",
              "      <td>CLODOALDO MONTEIRO DA SILVA</td>\n",
              "      <td>1014.029</td>\n",
              "      <td>5424</td>\n",
              "      <td>6.56</td>\n",
              "      <td>96.6</td>\n",
              "      <td>0.628</td>\n",
              "      <td>16.13</td>\n",
              "      <td>NaN</td>\n",
              "      <td>NaN</td>\n",
              "      <td>13362.95</td>\n",
              "      <td>NaN</td>\n",
              "    </tr>\n",
              "    <tr>\n",
              "      <th>1</th>\n",
              "      <td>Água Boa</td>\n",
              "      <td>5100201</td>\n",
              "      <td>água-boense</td>\n",
              "      <td>MAURO ROSA DA SILVA</td>\n",
              "      <td>7510.635</td>\n",
              "      <td>25229</td>\n",
              "      <td>2.79</td>\n",
              "      <td>99.2</td>\n",
              "      <td>0.729</td>\n",
              "      <td>10.23</td>\n",
              "      <td>92166.40674</td>\n",
              "      <td>81874.15633</td>\n",
              "      <td>37449.63</td>\n",
              "      <td>10292.25041</td>\n",
              "    </tr>\n",
              "    <tr>\n",
              "      <th>2</th>\n",
              "      <td>Alta Floresta</td>\n",
              "      <td>5100250</td>\n",
              "      <td>alta-florestense</td>\n",
              "      <td>ASIEL BEZERRA DE ARAUJO</td>\n",
              "      <td>8953.191</td>\n",
              "      <td>51615</td>\n",
              "      <td>5.48</td>\n",
              "      <td>98.0</td>\n",
              "      <td>0.714</td>\n",
              "      <td>19.19</td>\n",
              "      <td>146439.79095</td>\n",
              "      <td>118288.01810</td>\n",
              "      <td>31623.80</td>\n",
              "      <td>28151.77285</td>\n",
              "    </tr>\n",
              "    <tr>\n",
              "      <th>3</th>\n",
              "      <td>Alto Araguaia</td>\n",
              "      <td>5100300</td>\n",
              "      <td>araguaiano</td>\n",
              "      <td>GUSTAVO DE MELO ANICEZIO</td>\n",
              "      <td>5399.326</td>\n",
              "      <td>18703</td>\n",
              "      <td>2.84</td>\n",
              "      <td>96.7</td>\n",
              "      <td>0.704</td>\n",
              "      <td>9.09</td>\n",
              "      <td>63035.52537</td>\n",
              "      <td>55216.26966</td>\n",
              "      <td>50298.54</td>\n",
              "      <td>7819.25571</td>\n",
              "    </tr>\n",
              "    <tr>\n",
              "      <th>4</th>\n",
              "      <td>Alto Boa Vista</td>\n",
              "      <td>5100359</td>\n",
              "      <td>alto boa vistense</td>\n",
              "      <td>VALTUIR CANDIDO DA SILVA</td>\n",
              "      <td>2240.438</td>\n",
              "      <td>6659</td>\n",
              "      <td>2.34</td>\n",
              "      <td>96.8</td>\n",
              "      <td>0.651</td>\n",
              "      <td>37.04</td>\n",
              "      <td>23227.72780</td>\n",
              "      <td>20002.89582</td>\n",
              "      <td>16877.29</td>\n",
              "      <td>3224.83198</td>\n",
              "    </tr>\n",
              "    <tr>\n",
              "      <th>...</th>\n",
              "      <td>...</td>\n",
              "      <td>...</td>\n",
              "      <td>...</td>\n",
              "      <td>...</td>\n",
              "      <td>...</td>\n",
              "      <td>...</td>\n",
              "      <td>...</td>\n",
              "      <td>...</td>\n",
              "      <td>...</td>\n",
              "      <td>...</td>\n",
              "      <td>...</td>\n",
              "      <td>...</td>\n",
              "      <td>...</td>\n",
              "      <td>...</td>\n",
              "    </tr>\n",
              "    <tr>\n",
              "      <th>136</th>\n",
              "      <td>Vila Rica</td>\n",
              "      <td>5108600</td>\n",
              "      <td>vila-riquense</td>\n",
              "      <td>ABMAEL BORGES DA SILVEIRA</td>\n",
              "      <td>7431.481</td>\n",
              "      <td>25570</td>\n",
              "      <td>2.88</td>\n",
              "      <td>94.3</td>\n",
              "      <td>0.688</td>\n",
              "      <td>13.94</td>\n",
              "      <td>65369.63512</td>\n",
              "      <td>53496.66729</td>\n",
              "      <td>18523.62</td>\n",
              "      <td>11872.96783</td>\n",
              "    </tr>\n",
              "    <tr>\n",
              "      <th>137</th>\n",
              "      <td>Nova Guarita</td>\n",
              "      <td>5108808</td>\n",
              "      <td>nova  guaritense</td>\n",
              "      <td>JOSÉ LAIR ZAMONER</td>\n",
              "      <td>1114.126</td>\n",
              "      <td>4578</td>\n",
              "      <td>4.43</td>\n",
              "      <td>99.1</td>\n",
              "      <td>0.688</td>\n",
              "      <td>15.38</td>\n",
              "      <td>17948.12931</td>\n",
              "      <td>15845.81847</td>\n",
              "      <td>19328.36</td>\n",
              "      <td>2102.31084</td>\n",
              "    </tr>\n",
              "    <tr>\n",
              "      <th>138</th>\n",
              "      <td>Nova Marilândia</td>\n",
              "      <td>5108857</td>\n",
              "      <td>nova marilandense</td>\n",
              "      <td>JUVENAL ALEXANDRE DA SILVA</td>\n",
              "      <td>1936.428</td>\n",
              "      <td>3249</td>\n",
              "      <td>1.52</td>\n",
              "      <td>99.0</td>\n",
              "      <td>0.704</td>\n",
              "      <td>20.00</td>\n",
              "      <td>19867.45801</td>\n",
              "      <td>16245.31971</td>\n",
              "      <td>52652.90</td>\n",
              "      <td>3622.13830</td>\n",
              "    </tr>\n",
              "    <tr>\n",
              "      <th>139</th>\n",
              "      <td>Nova Maringá</td>\n",
              "      <td>5108907</td>\n",
              "      <td>nova maringaense</td>\n",
              "      <td>JOAO BRAGA NETO</td>\n",
              "      <td>11555.987</td>\n",
              "      <td>8428</td>\n",
              "      <td>0.57</td>\n",
              "      <td>95.9</td>\n",
              "      <td>0.663</td>\n",
              "      <td>12.05</td>\n",
              "      <td>30483.46311</td>\n",
              "      <td>26767.68830</td>\n",
              "      <td>50954.47</td>\n",
              "      <td>3715.77481</td>\n",
              "    </tr>\n",
              "    <tr>\n",
              "      <th>140</th>\n",
              "      <td>Nova Monte Verde</td>\n",
              "      <td>5108956</td>\n",
              "      <td>nova monte verdense</td>\n",
              "      <td>BEATRIZ DE FATIMA SUECK LEMES</td>\n",
              "      <td>5150.562</td>\n",
              "      <td>9078</td>\n",
              "      <td>1.54</td>\n",
              "      <td>99.1</td>\n",
              "      <td>0.691</td>\n",
              "      <td>24.59</td>\n",
              "      <td>29631.51413</td>\n",
              "      <td>26131.76327</td>\n",
              "      <td>19561.72</td>\n",
              "      <td>3499.75086</td>\n",
              "    </tr>\n",
              "  </tbody>\n",
              "</table>\n",
              "<p>141 rows × 14 columns</p>\n",
              "</div>"
            ],
            "text/plain": [
              "       NOME_MUNICIPIO   CODIGO            GENTILICO  \\\n",
              "0            Acorizal  5100102            acorizano   \n",
              "1            Água Boa  5100201          água-boense   \n",
              "2       Alta Floresta  5100250     alta-florestense   \n",
              "3       Alto Araguaia  5100300           araguaiano   \n",
              "4      Alto Boa Vista  5100359    alto boa vistense   \n",
              "..                ...      ...                  ...   \n",
              "136         Vila Rica  5108600        vila-riquense   \n",
              "137      Nova Guarita  5108808     nova  guaritense   \n",
              "138   Nova Marilândia  5108857    nova marilandense   \n",
              "139      Nova Maringá  5108907     nova maringaense   \n",
              "140  Nova Monte Verde  5108956  nova monte verdense   \n",
              "\n",
              "                      PREFEITO2017       AREA  POPESTIMADA  DENSIDADE  \\\n",
              "0      CLODOALDO MONTEIRO DA SILVA   1014.029         5424       6.56   \n",
              "1              MAURO ROSA DA SILVA   7510.635        25229       2.79   \n",
              "2          ASIEL BEZERRA DE ARAUJO   8953.191        51615       5.48   \n",
              "3         GUSTAVO DE MELO ANICEZIO   5399.326        18703       2.84   \n",
              "4         VALTUIR CANDIDO DA SILVA   2240.438         6659       2.34   \n",
              "..                             ...        ...          ...        ...   \n",
              "136      ABMAEL BORGES DA SILVEIRA   7431.481        25570       2.88   \n",
              "137              JOSÉ LAIR ZAMONER   1114.126         4578       4.43   \n",
              "138     JUVENAL ALEXANDRE DA SILVA   1936.428         3249       1.52   \n",
              "139                JOAO BRAGA NETO  11555.987         8428       0.57   \n",
              "140  BEATRIZ DE FATIMA SUECK LEMES   5150.562         9078       1.54   \n",
              "\n",
              "     ESCOLARIZACAO   IDHM MORTALIDADE      RECEITAS      DESPESAS       PIB  \\\n",
              "0             96.6  0.628       16.13           NaN           NaN  13362.95   \n",
              "1             99.2  0.729       10.23   92166.40674   81874.15633  37449.63   \n",
              "2             98.0  0.714       19.19  146439.79095  118288.01810  31623.80   \n",
              "3             96.7  0.704        9.09   63035.52537   55216.26966  50298.54   \n",
              "4             96.8  0.651       37.04   23227.72780   20002.89582  16877.29   \n",
              "..             ...    ...         ...           ...           ...       ...   \n",
              "136           94.3  0.688       13.94   65369.63512   53496.66729  18523.62   \n",
              "137           99.1  0.688       15.38   17948.12931   15845.81847  19328.36   \n",
              "138           99.0  0.704       20.00   19867.45801   16245.31971  52652.90   \n",
              "139           95.9  0.663       12.05   30483.46311   26767.68830  50954.47   \n",
              "140           99.1  0.691       24.59   29631.51413   26131.76327  19561.72   \n",
              "\n",
              "           SALDO  \n",
              "0            NaN  \n",
              "1    10292.25041  \n",
              "2    28151.77285  \n",
              "3     7819.25571  \n",
              "4     3224.83198  \n",
              "..           ...  \n",
              "136  11872.96783  \n",
              "137   2102.31084  \n",
              "138   3622.13830  \n",
              "139   3715.77481  \n",
              "140   3499.75086  \n",
              "\n",
              "[141 rows x 14 columns]"
            ]
          },
          "execution_count": 28,
          "metadata": {},
          "output_type": "execute_result"
        }
      ],
      "source": [
        "df['SALDO'] = df['RECEITAS'] - df['DESPESAS']\n",
        "df"
      ]
    }
  ],
  "metadata": {
    "colab": {
      "provenance": []
    },
    "kernelspec": {
      "display_name": "Python 3",
      "name": "python3"
    },
    "language_info": {
      "codemirror_mode": {
        "name": "ipython",
        "version": 3
      },
      "file_extension": ".py",
      "mimetype": "text/x-python",
      "name": "python",
      "nbconvert_exporter": "python",
      "pygments_lexer": "ipython3",
      "version": "3.10.11"
    }
  },
  "nbformat": 4,
  "nbformat_minor": 0
}
