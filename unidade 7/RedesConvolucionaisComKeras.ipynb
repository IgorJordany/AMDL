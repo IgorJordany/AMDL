{
  "nbformat": 4,
  "nbformat_minor": 0,
  "metadata": {
    "colab": {
      "provenance": []
    },
    "kernelspec": {
      "name": "python3",
      "display_name": "Python 3"
    }
  },
  "cells": [
    {
      "cell_type": "markdown",
      "metadata": {
        "id": "y1BNC9c7VKAd"
      },
      "source": [
        "# Importação de pacotes"
      ]
    },
    {
      "cell_type": "code",
      "metadata": {
        "id": "coIsd8lM8s3D"
      },
      "source": [
        "from tensorflow import keras\n",
        "import matplotlib.pyplot as plt\n",
        "import numpy as np"
      ],
      "execution_count": null,
      "outputs": []
    },
    {
      "cell_type": "markdown",
      "metadata": {
        "id": "V4fmWaI4VN__"
      },
      "source": [
        "# Carregamento e preparação da base de dados"
      ]
    },
    {
      "cell_type": "code",
      "metadata": {
        "id": "EImKbT_K8ybX"
      },
      "source": [
        "cifar = keras.datasets.cifar10\n",
        "(x_train, y_train), (x_test, y_test) = cifar.load_data()"
      ],
      "execution_count": null,
      "outputs": []
    },
    {
      "cell_type": "code",
      "metadata": {
        "id": "InO1NIht81DO"
      },
      "source": [
        "x_train = x_train / 255.0\n",
        "x_test = x_test / 255.0"
      ],
      "execution_count": null,
      "outputs": []
    },
    {
      "cell_type": "markdown",
      "metadata": {
        "id": "5sb7_KwmVRTv"
      },
      "source": [
        "# Criação do modelo"
      ]
    },
    {
      "cell_type": "code",
      "metadata": {
        "id": "smX-TUT383yZ"
      },
      "source": [
        "model = keras.models.Sequential([\n",
        "  keras.layers.Conv2D(64, (3, 3), activation='relu', input_shape=(32, 32, 3)),\n",
        "  keras.layers.MaxPooling2D(2, 2),\n",
        "  keras.layers.Conv2D(64, (3, 3), activation='relu'),\n",
        "  keras.layers.MaxPooling2D(2,2),\n",
        "  keras.layers.Flatten(),\n",
        "  keras.layers.Dense(128, activation='relu'),\n",
        "  keras.layers.Dense(10, activation='softmax')\n",
        "])"
      ],
      "execution_count": null,
      "outputs": []
    },
    {
      "cell_type": "code",
      "metadata": {
        "id": "-DfoZYJH87SF"
      },
      "source": [
        "model.compile(optimizer='adam', loss='sparse_categorical_crossentropy', metrics=['accuracy'])\n",
        "model.summary()"
      ],
      "execution_count": null,
      "outputs": []
    },
    {
      "cell_type": "markdown",
      "metadata": {
        "id": "5MhGhlPDVUTC"
      },
      "source": [
        "# Treinamento e validação"
      ]
    },
    {
      "cell_type": "code",
      "metadata": {
        "id": "pNEDJ0248_HY"
      },
      "source": [
        "hist = model.fit(x_train, y_train, validation_split=0.2, epochs=5)"
      ],
      "execution_count": null,
      "outputs": []
    },
    {
      "cell_type": "code",
      "metadata": {
        "id": "McdR3jvE9Bwz"
      },
      "source": [
        "# Accuracy\n",
        "plt.plot(hist.history['accuracy'])\n",
        "plt.plot(hist.history['val_accuracy'])\n",
        "plt.title('Model accuracy')\n",
        "plt.ylabel('Accuracy')\n",
        "plt.xlabel('Epoch')\n",
        "plt.legend(['Train', 'Test'], loc='upper left')\n",
        "plt.show()\n",
        "\n",
        "# Loss\n",
        "plt.plot(hist.history['loss'])\n",
        "plt.plot(hist.history['val_loss'])\n",
        "plt.title('Model loss')\n",
        "plt.ylabel('Loss')\n",
        "plt.xlabel('Epoch')\n",
        "plt.legend(['Train', 'Test'], loc='upper left')\n",
        "plt.show()"
      ],
      "execution_count": null,
      "outputs": []
    },
    {
      "cell_type": "code",
      "metadata": {
        "id": "6ab31hsq9aL-"
      },
      "source": [
        "test_loss, test_accuracy = model.evaluate(x_test, y_test)\n",
        "print ('Test loss: {}, Test accuracy: {}'.format(test_loss, test_accuracy*100))"
      ],
      "execution_count": null,
      "outputs": []
    },
    {
      "cell_type": "markdown",
      "metadata": {
        "id": "O0ZxfuJPVeGF"
      },
      "source": [
        "# Análise de feature map"
      ]
    },
    {
      "cell_type": "code",
      "metadata": {
        "id": "7S1I5RkI9axp"
      },
      "source": [
        "image = x_test[48]\n",
        "plt.imshow(image)\n",
        "plt.show()\n",
        "\n",
        "successive_outputs = [layer.output for layer in model.layers]\n",
        "visualization_model = keras.models.Model(inputs = model.input, outputs = successive_outputs)\n",
        "\n",
        "x = image.reshape((1,) + image.shape)\n",
        "successive_feature_maps = visualization_model.predict(x)\n",
        "\n",
        "feature_map = successive_feature_maps[0]\n",
        "\n",
        "n_features = 10 # todas: feature_map.shape[-1]\n",
        "\n",
        "for i in range(n_features):\n",
        "  x = feature_map[0, :, :, i]\n",
        "  x -= x.mean()\n",
        "  x /= x.std()\n",
        "  x *= 64\n",
        "  x += 128\n",
        "  x = np.clip(x, 0, 255).astype('uint8')\n",
        "  plt.imshow(x)\n",
        "  plt.show()"
      ],
      "execution_count": null,
      "outputs": []
    }
  ]
}