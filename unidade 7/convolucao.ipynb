{
  "nbformat": 4,
  "nbformat_minor": 0,
  "metadata": {
    "colab": {
      "provenance": []
    },
    "kernelspec": {
      "name": "python3",
      "display_name": "Python 3"
    }
  },
  "cells": [
    {
      "cell_type": "code",
      "metadata": {
        "id": "WMdMLin8vgIR"
      },
      "source": [
        "from tensorflow import keras\n",
        "import numpy as np\n",
        "import matplotlib.pyplot as plt"
      ],
      "execution_count": null,
      "outputs": []
    },
    {
      "cell_type": "code",
      "metadata": {
        "id": "LK45rnppwEZA"
      },
      "source": [
        "fashion = keras.datasets.fashion_mnist\n",
        "(x_train, y_train), (x_test, y_test) = fashion.load_data()"
      ],
      "execution_count": null,
      "outputs": []
    },
    {
      "cell_type": "code",
      "metadata": {
        "id": "1iGXig4QwI82"
      },
      "source": [
        "image = x_train[42]\n",
        "plt.imshow(image)"
      ],
      "execution_count": null,
      "outputs": []
    },
    {
      "cell_type": "code",
      "metadata": {
        "id": "O-2LhEXNwSXx"
      },
      "source": [
        "kernel = [ [-1, 0, 1], [-2, 0, 2], [-1, 0, 1]]\n",
        "novaImagem = np.copy( image )"
      ],
      "execution_count": null,
      "outputs": []
    },
    {
      "cell_type": "code",
      "metadata": {
        "id": "C323ZJyxwsCY"
      },
      "source": [
        "for x in range(1,28-1):\n",
        "  for y in range(1,28-1):\n",
        "    output = 0.0\n",
        "    output = output + image[x-1][y-1] * kernel[0][0]\n",
        "    output = output + image[x][y-1] * kernel[0][1]\n",
        "    output = output + image[x+1][y-1] * kernel[0][2]\n",
        "    output = output + image[x-1][y] * kernel[1][0]\n",
        "    output = output + image[x][y] * kernel[1][1]\n",
        "    output = output + image[x+1][y] * kernel[1][2]\n",
        "    output = output + image[x-1][y+1] * kernel[2][0]\n",
        "    output = output + image[x][y+1] * kernel[2][1]\n",
        "    output = output + image[x+1][y+1] * kernel[2][2]\n",
        "\n",
        "    if output < 0:\n",
        "      output = 0\n",
        "\n",
        "    if output > 255:\n",
        "      output = 255\n",
        "\n",
        "    novaImagem[x, y] = output"
      ],
      "execution_count": null,
      "outputs": []
    },
    {
      "cell_type": "code",
      "metadata": {
        "id": "6flmiNGfyDNj"
      },
      "source": [
        "plt.imshow(novaImagem)"
      ],
      "execution_count": null,
      "outputs": []
    }
  ]
}